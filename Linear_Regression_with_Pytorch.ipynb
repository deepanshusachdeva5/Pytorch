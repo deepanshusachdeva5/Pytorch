{
 "cells": [
  {
   "cell_type": "code",
   "execution_count": 2,
   "id": "e269d8c2",
   "metadata": {},
   "outputs": [],
   "source": [
    "# Imports\n",
    "import torch\n",
    "import torch.nn as nn\n",
    "import numpy as np\n",
    "import matplotlib.pyplot as plt\n",
    "from sklearn import datasets"
   ]
  },
  {
   "cell_type": "code",
   "execution_count": 3,
   "id": "d6541aa0",
   "metadata": {},
   "outputs": [],
   "source": [
    "X_numpy , y_numpy = datasets.make_regression(n_samples = 100,n_features=1,noise=20,random_state =42)"
   ]
  },
  {
   "cell_type": "code",
   "execution_count": 4,
   "id": "a8dc80eb",
   "metadata": {},
   "outputs": [],
   "source": [
    "X = torch.from_numpy(X_numpy.astype(np.float32))\n",
    "y = torch.from_numpy(y_numpy.astype(np.float32))"
   ]
  },
  {
   "cell_type": "code",
   "execution_count": 8,
   "id": "6441fc1d",
   "metadata": {},
   "outputs": [],
   "source": [
    "y = y.view(y.shape[0],1)"
   ]
  },
  {
   "cell_type": "code",
   "execution_count": 11,
   "id": "2ffe8362",
   "metadata": {},
   "outputs": [
    {
     "name": "stdout",
     "output_type": "stream",
     "text": [
      "torch.Size([100, 1])\n"
     ]
    }
   ],
   "source": [
    "print(y.shape)"
   ]
  },
  {
   "cell_type": "code",
   "execution_count": 12,
   "id": "e854610e",
   "metadata": {},
   "outputs": [],
   "source": [
    "nsamples,nfeatures = X.shape"
   ]
  },
  {
   "cell_type": "code",
   "execution_count": 13,
   "id": "98106491",
   "metadata": {},
   "outputs": [],
   "source": [
    "input_size = nfeatures\n",
    "output_size = 1"
   ]
  },
  {
   "cell_type": "markdown",
   "id": "69b562de",
   "metadata": {},
   "source": [
    "# Model initialization"
   ]
  },
  {
   "cell_type": "code",
   "execution_count": 32,
   "id": "927f00d6",
   "metadata": {},
   "outputs": [],
   "source": [
    "model = nn.Linear(input_size,output_size)"
   ]
  },
  {
   "cell_type": "markdown",
   "id": "63f1ab85",
   "metadata": {},
   "source": [
    "## Loss and optimizer"
   ]
  },
  {
   "cell_type": "code",
   "execution_count": 33,
   "id": "8afc83c0",
   "metadata": {},
   "outputs": [],
   "source": [
    "learning_rate = 0.01\n",
    "loss = nn.MSELoss()\n",
    "optimizer = torch.optim.SGD(model.parameters(),lr = learning_rate,weight_decay=0.002)"
   ]
  },
  {
   "cell_type": "markdown",
   "id": "1918e5ad",
   "metadata": {},
   "source": [
    "## Training Loop"
   ]
  },
  {
   "cell_type": "code",
   "execution_count": 34,
   "id": "e9da66e2",
   "metadata": {},
   "outputs": [
    {
     "name": "stdout",
     "output_type": "stream",
     "text": [
      "[INFO] Training started...\n",
      "[INFO] Epoch: 19, loss : 1252.209\n",
      "[INFO] Epoch: 39, loss : 797.411\n",
      "[INFO] Epoch: 59, loss : 564.260\n",
      "[INFO] Epoch: 79, loss : 443.890\n",
      "[INFO] Epoch: 99, loss : 381.359\n",
      "[INFO] Epoch: 119, loss : 348.697\n",
      "[INFO] Epoch: 139, loss : 331.554\n",
      "[INFO] Epoch: 159, loss : 322.515\n",
      "[INFO] Epoch: 179, loss : 317.729\n",
      "[INFO] Epoch: 199, loss : 315.185\n"
     ]
    }
   ],
   "source": [
    "epochs = 200\n",
    "\n",
    "print(\"[INFO] Training started...\")\n",
    "for epoch in range(epochs):\n",
    "    \n",
    "    #Y_prediction\n",
    "    y_pred = model(X)\n",
    "    \n",
    "    #loss calculation\n",
    "    l = loss(y,y_pred)\n",
    "    \n",
    "    #Compute the gradient\n",
    "    l.backward()\n",
    "    \n",
    "    #Weight updation\n",
    "    optimizer.step()\n",
    "    \n",
    "    #Zeroing the grad to keep it out of the computational graph\n",
    "    optimizer.zero_grad()\n",
    "    \n",
    "    if (epoch +1)%20==0:\n",
    "        print(f\"[INFO] Epoch: {epoch }, loss : {l.item():.3f}\")"
   ]
  },
  {
   "cell_type": "markdown",
   "id": "3f206d99",
   "metadata": {},
   "source": [
    "## Plotting"
   ]
  },
  {
   "cell_type": "code",
   "execution_count": 35,
   "id": "78a15b3f",
   "metadata": {},
   "outputs": [
    {
     "data": {
      "image/png": "[encoded data removed]",
      "text/plain": [
       "<Figure size 432x288 with 1 Axes>"
      ]
     },
     "metadata": {
      "needs_background": "light"
     },
     "output_type": "display_data"
    }
   ],
   "source": [
    "predicted = model(X).detach().numpy()\n",
    "plt.plot(X_numpy,y_numpy,'ro')\n",
    "plt.plot(X_numpy,predicted,'b')\n",
    "plt.show()"
   ]
  },
  {
   "cell_type": "code",
   "execution_count": null,
   "id": "24653f8a",
   "metadata": {},
   "outputs": [],
   "source": []
  }
 ],
 "metadata": {
  "kernelspec": {
   "display_name": "Python 3",
   "language": "python",
   "name": "python3"
  },
  "language_info": {
   "codemirror_mode": {
    "name": "ipython",
    "version": 3
   },
   "file_extension": ".py",
   "mimetype": "text/x-python",
   "name": "python",
   "nbconvert_exporter": "python",
   "pygments_lexer": "ipython3",
   "version": "3.8.8"
  }
 },
 "nbformat": 4,
 "nbformat_minor": 5
}
