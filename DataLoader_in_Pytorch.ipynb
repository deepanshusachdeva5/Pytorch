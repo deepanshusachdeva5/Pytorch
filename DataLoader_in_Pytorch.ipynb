{
 "cells": [
  {
   "cell_type": "code",
   "execution_count": 1,
   "id": "35f1833f",
   "metadata": {},
   "outputs": [],
   "source": [
    "import torch\n",
    "import torchvision\n",
    "import numpy as np\n",
    "from torch.utils.data import Dataset,DataLoader\n",
    "import math"
   ]
  },
  {
   "cell_type": "code",
   "execution_count": 2,
   "id": "b623214b",
   "metadata": {},
   "outputs": [],
   "source": [
    "class dataset_builder(Dataset):\n",
    "    def __init__(self):\n",
    "        data = np.loadtxt('./wine.csv',delimiter=',',dtype=np.float32,skiprows=1)\n",
    "        #print(data)\n",
    "        self.x = torch.from_numpy(data[:,1:])\n",
    "        self.y = torch.from_numpy(data[:,[0]])\n",
    "        self.n_samples = data.shape[0]\n",
    "        \n",
    "    def __getitem__(self,index):\n",
    "        return self.x[index],self.y[index]\n",
    "    \n",
    "    def __len__(self):\n",
    "        return self.n_samples\n",
    "    \n",
    "def collate_wrapper(batch):\n",
    "    return dataset_builder(batch)"
   ]
  },
  {
   "cell_type": "code",
   "execution_count": 3,
   "id": "84f48955",
   "metadata": {},
   "outputs": [],
   "source": [
    "dataset = dataset_builder()"
   ]
  },
  {
   "cell_type": "code",
   "execution_count": 7,
   "id": "749a5cc1",
   "metadata": {},
   "outputs": [],
   "source": [
    "dataset_loader = DataLoader(dataset=dataset,batch_size = 4 ,shuffle = True,num_workers = 0 ,pin_memory=True)"
   ]
  },
  {
   "cell_type": "markdown",
   "id": "47fabd4e",
   "metadata": {},
   "source": [
    "# Iteration"
   ]
  },
  {
   "cell_type": "code",
   "execution_count": 8,
   "id": "83be479d",
   "metadata": {},
   "outputs": [
    {
     "name": "stdout",
     "output_type": "stream",
     "text": [
      "178 45\n"
     ]
    }
   ],
   "source": [
    "num_epochs = 2\n",
    "batch_size = 4\n",
    "total_samples = len(dataset)\n",
    "n_iterations = math.ceil(total_samples/batch_size)\n",
    "print(total_samples,n_iterations)"
   ]
  },
  {
   "cell_type": "code",
   "execution_count": 9,
   "id": "395ec4ce",
   "metadata": {},
   "outputs": [
    {
     "name": "stdout",
     "output_type": "stream",
     "text": [
      "[INFO] epochs 1/2, iteration: 5/45, input_shape : torch.Size([4, 13])\n",
      "[INFO] epochs 1/2, iteration: 10/45, input_shape : torch.Size([4, 13])\n",
      "[INFO] epochs 1/2, iteration: 15/45, input_shape : torch.Size([4, 13])\n",
      "[INFO] epochs 1/2, iteration: 20/45, input_shape : torch.Size([4, 13])\n",
      "[INFO] epochs 1/2, iteration: 25/45, input_shape : torch.Size([4, 13])\n",
      "[INFO] epochs 1/2, iteration: 30/45, input_shape : torch.Size([4, 13])\n",
      "[INFO] epochs 1/2, iteration: 35/45, input_shape : torch.Size([4, 13])\n",
      "[INFO] epochs 1/2, iteration: 40/45, input_shape : torch.Size([4, 13])\n",
      "[INFO] epochs 1/2, iteration: 45/45, input_shape : torch.Size([2, 13])\n",
      "[INFO] epochs 2/2, iteration: 5/45, input_shape : torch.Size([4, 13])\n",
      "[INFO] epochs 2/2, iteration: 10/45, input_shape : torch.Size([4, 13])\n",
      "[INFO] epochs 2/2, iteration: 15/45, input_shape : torch.Size([4, 13])\n",
      "[INFO] epochs 2/2, iteration: 20/45, input_shape : torch.Size([4, 13])\n",
      "[INFO] epochs 2/2, iteration: 25/45, input_shape : torch.Size([4, 13])\n",
      "[INFO] epochs 2/2, iteration: 30/45, input_shape : torch.Size([4, 13])\n",
      "[INFO] epochs 2/2, iteration: 35/45, input_shape : torch.Size([4, 13])\n",
      "[INFO] epochs 2/2, iteration: 40/45, input_shape : torch.Size([4, 13])\n",
      "[INFO] epochs 2/2, iteration: 45/45, input_shape : torch.Size([2, 13])\n"
     ]
    }
   ],
   "source": [
    "for epoch in range(num_epochs):\n",
    "    for i, (inputs,labels) in enumerate(dataset_loader):\n",
    "        if (i+1)%5==0:\n",
    "            print(f\"[INFO] epochs {epoch+1}/{num_epochs}, iteration: {i+1}/{n_iterations}, input_shape : {inputs.shape}\")"
   ]
  },
  {
   "cell_type": "code",
   "execution_count": null,
   "id": "cfcb233b",
   "metadata": {},
   "outputs": [],
   "source": []
  },
  {
   "cell_type": "code",
   "execution_count": null,
   "id": "266e903d",
   "metadata": {},
   "outputs": [],
   "source": []
  }
 ],
 "metadata": {
  "kernelspec": {
   "display_name": "Python 3",
   "language": "python",
   "name": "python3"
  },
  "language_info": {
   "codemirror_mode": {
    "name": "ipython",
    "version": 3
   },
   "file_extension": ".py",
   "mimetype": "text/x-python",
   "name": "python",
   "nbconvert_exporter": "python",
   "pygments_lexer": "ipython3",
   "version": "3.8.8"
  }
 },
 "nbformat": 4,
 "nbformat_minor": 5
}
