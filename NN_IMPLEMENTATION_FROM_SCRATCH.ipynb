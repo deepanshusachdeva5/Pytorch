{
 "cells": [
  {
   "cell_type": "code",
   "execution_count": 1,
   "id": "9a1a529c",
   "metadata": {},
   "outputs": [],
   "source": [
    "import torch"
   ]
  },
  {
   "cell_type": "code",
   "execution_count": 33,
   "id": "69fe4860",
   "metadata": {},
   "outputs": [],
   "source": [
    "x = torch.ones(1)\n",
    "y = torch.rand(1)\n",
    "\n",
    "w = torch.zeros(1,requires_grad = True)"
   ]
  },
  {
   "cell_type": "code",
   "execution_count": 34,
   "id": "49a183cf",
   "metadata": {},
   "outputs": [
    {
     "name": "stdout",
     "output_type": "stream",
     "text": [
      "tensor([1.])\n",
      "tensor([0.0124])\n",
      "tensor([0.], requires_grad=True)\n"
     ]
    }
   ],
   "source": [
    "print(x)\n",
    "print(y)\n",
    "print(w)"
   ]
  },
  {
   "cell_type": "code",
   "execution_count": 10,
   "id": "0b186486",
   "metadata": {},
   "outputs": [
    {
     "name": "stdout",
     "output_type": "stream",
     "text": [
      "tensor([0.8812], grad_fn=<PowBackward0>)\n"
     ]
    }
   ],
   "source": [
    "y_hat = x*w\n",
    "s = y_hat - y\n",
    "loss = s**2\n",
    "print(loss)"
   ]
  },
  {
   "cell_type": "code",
   "execution_count": 11,
   "id": "5c55ec1a",
   "metadata": {},
   "outputs": [],
   "source": [
    "loss.backward()"
   ]
  },
  {
   "cell_type": "code",
   "execution_count": 14,
   "id": "125ae934",
   "metadata": {},
   "outputs": [
    {
     "name": "stdout",
     "output_type": "stream",
     "text": [
      "tensor([1.8774])\n"
     ]
    }
   ],
   "source": [
    "print(w.grad)"
   ]
  },
  {
   "cell_type": "markdown",
   "id": "4e82184e",
   "metadata": {},
   "source": [
    "## Gradient Descent From Scratch"
   ]
  },
  {
   "cell_type": "code",
   "execution_count": 15,
   "id": "d19e1d61",
   "metadata": {},
   "outputs": [],
   "source": [
    "import numpy as np"
   ]
  },
  {
   "cell_type": "code",
   "execution_count": 61,
   "id": "3ae31f3c",
   "metadata": {},
   "outputs": [],
   "source": [
    "x = np.array([1,2,3,4,5])\n",
    "y = np.array([2,4,6,8,10]) ## y = 3*x\n",
    "# weight initialization\n",
    "w = np.array([0.],dtype=np.float32)"
   ]
  },
  {
   "cell_type": "code",
   "execution_count": 62,
   "id": "e86e26f2",
   "metadata": {},
   "outputs": [],
   "source": [
    "def forward_pass(x):\n",
    "    return w*x\n",
    "\n",
    "def loss(y,y_predicted):\n",
    "    return ((y-y_predicted)**2).mean()\n",
    "\n",
    "def gradient_descent(x,y,y_predicted):\n",
    "    return (1/len(x))*(np.dot(2*x,(y_predicted-y)))"
   ]
  },
  {
   "cell_type": "code",
   "execution_count": 63,
   "id": "d4743cb4",
   "metadata": {},
   "outputs": [
    {
     "name": "stdout",
     "output_type": "stream",
     "text": [
      "Predicted value with initial weights: {:.3f} [0. 0. 0. 0. 0.]\n",
      "Predicted value at epoch number : 0: 0.440 and loss = 44.000\n",
      "Predicted value at epoch number : 1: 0.783 and loss = 26.770\n",
      "Predicted value at epoch number : 2: 1.051 and loss = 16.287\n",
      "Predicted value at epoch number : 3: 1.260 and loss = 9.909\n",
      "Predicted value at epoch number : 4: 1.423 and loss = 6.029\n",
      "Predicted value at epoch number : 5: 1.550 and loss = 3.668\n",
      "Predicted value at epoch number : 6: 1.649 and loss = 2.231\n",
      "Predicted value at epoch number : 7: 1.726 and loss = 1.358\n",
      "Predicted value at epoch number : 8: 1.786 and loss = 0.826\n",
      "Predicted value at epoch number : 9: 1.833 and loss = 0.503\n"
     ]
    }
   ],
   "source": [
    "y_pred = forward_pass(x)\n",
    "print(\"Predicted value with initial weights: {:.3f}\",y_pred)\n",
    "\n",
    "epochs = 10\n",
    "learning_rate = 0.01\n",
    "for epoch in range(epochs):\n",
    "    y_pred = forward_pass(x)\n",
    "    loss_value = loss(y,y_pred)\n",
    "    dw = gradient_descent(x,y,y_pred)\n",
    "    w = w - learning_rate*dw\n",
    "    print(f\"Predicted value at epoch number : {epoch}: {w[0]:.3f} and loss = {loss_value:.3f}\")"
   ]
  },
  {
   "cell_type": "markdown",
   "id": "e4e17b31",
   "metadata": {},
   "source": [
    "# Gradient Descent with Pytorch from scratch"
   ]
  },
  {
   "cell_type": "code",
   "execution_count": 64,
   "id": "581ef581",
   "metadata": {},
   "outputs": [],
   "source": [
    "import torch"
   ]
  },
  {
   "cell_type": "code",
   "execution_count": 79,
   "id": "0e4e8172",
   "metadata": {},
   "outputs": [],
   "source": [
    "x = torch.tensor([1,2,3,4,5],dtype=torch.float32)\n",
    "y = torch.tensor([3,6,9,12,15],dtype=torch.float32)\n",
    "w = torch.tensor([0.],requires_grad = True)"
   ]
  },
  {
   "cell_type": "code",
   "execution_count": 80,
   "id": "fc9be877",
   "metadata": {},
   "outputs": [],
   "source": [
    "def forward(x):\n",
    "    return w*x\n",
    "\n",
    "def loss(y,y_pred):\n",
    "    return ((y-y_pred)**2).mean()"
   ]
  },
  {
   "cell_type": "code",
   "execution_count": 81,
   "id": "9653f51a",
   "metadata": {},
   "outputs": [
    {
     "name": "stdout",
     "output_type": "stream",
     "text": [
      "Prediction after epoch -> 9: weights : 1.087, loss: 44.043\n",
      "Prediction after epoch -> 19: weights : 1.780, loss: 17.908\n",
      "Prediction after epoch -> 29: weights : 2.222, loss: 7.281\n",
      "Prediction after epoch -> 39: weights : 2.504, loss: 2.960\n",
      "Prediction after epoch -> 49: weights : 2.684, loss: 1.204\n",
      "Prediction after epoch -> 59: weights : 2.798, loss: 0.489\n",
      "Prediction after epoch -> 69: weights : 2.871, loss: 0.199\n",
      "Prediction after epoch -> 79: weights : 2.918, loss: 0.081\n",
      "Prediction after epoch -> 89: weights : 2.948, loss: 0.033\n",
      "Prediction after epoch -> 99: weights : 2.967, loss: 0.013\n"
     ]
    }
   ],
   "source": [
    "epochs = 100\n",
    "learning_rate = 0.002\n",
    "\n",
    "for epoch in range(epochs):\n",
    "    y_pred = forward_pass(x)\n",
    "    \n",
    "    l = loss(y,y_pred)\n",
    "    \n",
    "    l.backward() #dl/dw\n",
    "    \n",
    "    #update weights\n",
    "    ## ---------IMPORTANT STEP ----------------------\n",
    "    with torch.no_grad():\n",
    "        w -= learning_rate*w.grad\n",
    "    \n",
    "    w.grad.zero_()\n",
    "    \n",
    "    if (epoch +1)%10 == 0:\n",
    "        print(f\"Prediction after epoch -> {epoch}: weights : {w[0]:.3f}, loss: {l:.3f}\")"
   ]
  },
  {
   "cell_type": "markdown",
   "id": "9ce2a619",
   "metadata": {},
   "source": [
    "# Implementation of Feedforward Neural network using torch.nn"
   ]
  },
  {
   "cell_type": "code",
   "execution_count": 82,
   "id": "68332421",
   "metadata": {},
   "outputs": [],
   "source": [
    "import torch\n",
    "import torch.nn as nn"
   ]
  },
  {
   "cell_type": "code",
   "execution_count": 119,
   "id": "ddd1eacc",
   "metadata": {},
   "outputs": [],
   "source": [
    "## Inputs now must be in the shape of rows and features, see below for more understanding\n",
    "x = torch.tensor([[1],[3],[5],[7]],dtype=torch.float32)\n",
    "y = torch.tensor([[2],[6],[10],[14]],dtype=torch.float32)"
   ]
  },
  {
   "cell_type": "code",
   "execution_count": 125,
   "id": "d35fc3d3",
   "metadata": {},
   "outputs": [
    {
     "name": "stdout",
     "output_type": "stream",
     "text": [
      "torch.Size([4, 1])\n"
     ]
    }
   ],
   "source": [
    "nsamples,nfeatures = x.shape\n",
    "print(x.shape)"
   ]
  },
  {
   "cell_type": "code",
   "execution_count": 126,
   "id": "4f6d0a99",
   "metadata": {},
   "outputs": [],
   "source": [
    "input_size = nfeatures\n",
    "output_size = nfeatures"
   ]
  },
  {
   "cell_type": "code",
   "execution_count": 127,
   "id": "2f104018",
   "metadata": {},
   "outputs": [],
   "source": [
    "model = nn.Linear(input_size,output_size)\n",
    "learning_rate = 0.01\n",
    "epochs = 200"
   ]
  },
  {
   "cell_type": "code",
   "execution_count": 128,
   "id": "fcea3089",
   "metadata": {},
   "outputs": [],
   "source": [
    "loss = nn.MSELoss()\n",
    "optimizer = torch.optim.SGD(model.parameters(),lr=learning_rate)"
   ]
  },
  {
   "cell_type": "code",
   "execution_count": 129,
   "id": "59d5e2e9",
   "metadata": {},
   "outputs": [
    {
     "name": "stdout",
     "output_type": "stream",
     "text": [
      "prediction after epoch : 0 : weight : 0.222,  loss: 175.121\n",
      "prediction after epoch : 20 : weight : 1.811,  loss: 0.231\n",
      "prediction after epoch : 40 : weight : 1.828,  loss: 0.192\n",
      "prediction after epoch : 60 : weight : 1.843,  loss: 0.160\n",
      "prediction after epoch : 80 : weight : 1.857,  loss: 0.133\n",
      "prediction after epoch : 100 : weight : 1.869,  loss: 0.111\n",
      "prediction after epoch : 120 : weight : 1.881,  loss: 0.092\n",
      "prediction after epoch : 140 : weight : 1.891,  loss: 0.077\n",
      "prediction after epoch : 160 : weight : 1.901,  loss: 0.064\n",
      "prediction after epoch : 180 : weight : 1.910,  loss: 0.053\n"
     ]
    }
   ],
   "source": [
    "for epoch in range(epochs):\n",
    "    y_pred = model(x)\n",
    "    \n",
    "    l = loss(y,y_pred)\n",
    "    \n",
    "    l.backward()\n",
    "    \n",
    "    optimizer.step()\n",
    "    \n",
    "    optimizer.zero_grad()\n",
    "    \n",
    "    if epoch %20 == 0:\n",
    "        w,b = model.parameters()\n",
    "        print(f\"prediction after epoch : {epoch} : weight : {w[0][0]:.3f},  loss: {l:.3f}\")\n",
    "    "
   ]
  },
  {
   "cell_type": "code",
   "execution_count": null,
   "id": "2b6e01f5",
   "metadata": {},
   "outputs": [],
   "source": []
  },
  {
   "cell_type": "code",
   "execution_count": null,
   "id": "dd348805",
   "metadata": {},
   "outputs": [],
   "source": []
  }
 ],
 "metadata": {
  "kernelspec": {
   "display_name": "Python 3",
   "language": "python",
   "name": "python3"
  },
  "language_info": {
   "codemirror_mode": {
    "name": "ipython",
    "version": 3
   },
   "file_extension": ".py",
   "mimetype": "text/x-python",
   "name": "python",
   "nbconvert_exporter": "python",
   "pygments_lexer": "ipython3",
   "version": "3.8.8"
  }
 },
 "nbformat": 4,
 "nbformat_minor": 5
}
