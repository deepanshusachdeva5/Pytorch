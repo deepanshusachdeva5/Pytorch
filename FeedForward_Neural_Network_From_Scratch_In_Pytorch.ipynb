{
 "cells": [
  {
   "cell_type": "code",
   "execution_count": 1,
   "id": "fabed847",
   "metadata": {},
   "outputs": [],
   "source": [
    "import torch\n",
    "import torch.nn as nn"
   ]
  },
  {
   "cell_type": "code",
   "execution_count": 2,
   "id": "7238dc84",
   "metadata": {},
   "outputs": [],
   "source": [
    "class Neural_Network(nn.Module):\n",
    "    def __init__(self,input_size , hidden_size , num_classes):\n",
    "        super(Neural_Network,self).__init__()\n",
    "        self.linear1 = nn.Linear(input_size, hidden_size)\n",
    "        self.relu = nn.ReLU()\n",
    "        self.linear2 = nn.Linear(hidden_size, 1)\n",
    "    \n",
    "    def forward(self,x):\n",
    "        out = self.linear1(x)\n",
    "        out = self.relu(out)\n",
    "        out = self.linear2(out)\n",
    "        ## if applying nn.BCEloss then involve sigmoid at last\n",
    "        y_pred = torch.Sigmoid(out)\n",
    "        return y_pred"
   ]
  },
  {
   "cell_type": "code",
   "execution_count": 3,
   "id": "ebfd5072",
   "metadata": {},
   "outputs": [],
   "source": [
    "model = Neural_Network(28*28,5,1)"
   ]
  },
  {
   "cell_type": "code",
   "execution_count": 4,
   "id": "e2a746cb",
   "metadata": {},
   "outputs": [],
   "source": [
    "criterion = nn.BCELoss()"
   ]
  },
  {
   "cell_type": "markdown",
   "id": "1547aba0",
   "metadata": {},
   "source": [
    "## Load MNIST dataset"
   ]
  },
  {
   "cell_type": "code",
   "execution_count": 5,
   "id": "d0d46ca0",
   "metadata": {},
   "outputs": [],
   "source": [
    "import torchvision\n",
    "from torchvision import transforms"
   ]
  },
  {
   "cell_type": "code",
   "execution_count": 6,
   "id": "c1014c03",
   "metadata": {},
   "outputs": [],
   "source": [
    "train_dataset = torchvision.datasets.MNIST(root =\"./data\",download = True, train = True,transform = transforms.ToTensor())"
   ]
  },
  {
   "cell_type": "code",
   "execution_count": 7,
   "id": "50373c61",
   "metadata": {},
   "outputs": [],
   "source": [
    "test_dataset = torchvision.datasets.MNIST(root = './data',train = False,transform = transforms.ToTensor())\n"
   ]
  },
  {
   "cell_type": "code",
   "execution_count": 8,
   "id": "843ac3f3",
   "metadata": {},
   "outputs": [],
   "source": [
    "train_dataloader = torch.utils.data.DataLoader(dataset = train_dataset,batch_size = 100, shuffle = True)"
   ]
  },
  {
   "cell_type": "code",
   "execution_count": 9,
   "id": "c7e4fe3a",
   "metadata": {},
   "outputs": [],
   "source": [
    "test_dataloader = torch.utils.data.DataLoader(dataset = test_dataset,batch_size = 100)"
   ]
  },
  {
   "cell_type": "code",
   "execution_count": 10,
   "id": "9c7d350b",
   "metadata": {},
   "outputs": [],
   "source": [
    "examples = iter(train_dataloader)\n",
    "samples, labels = examples.next()"
   ]
  },
  {
   "cell_type": "code",
   "execution_count": 11,
   "id": "f23e8337",
   "metadata": {},
   "outputs": [
    {
     "name": "stdout",
     "output_type": "stream",
     "text": [
      "torch.Size([100, 1, 28, 28]) torch.Size([100])\n"
     ]
    }
   ],
   "source": [
    "print(samples.shape,labels.shape)"
   ]
  },
  {
   "cell_type": "markdown",
   "id": "ab567438",
   "metadata": {},
   "source": [
    "## implementing Neural Network for Multiple Classes"
   ]
  },
  {
   "cell_type": "code",
   "execution_count": 12,
   "id": "51e2b6a8",
   "metadata": {},
   "outputs": [],
   "source": [
    "# same as above just sigmoid won't be used"
   ]
  },
  {
   "cell_type": "code",
   "execution_count": 14,
   "id": "de82f087",
   "metadata": {},
   "outputs": [],
   "source": [
    "class Neural_Network2(nn.Module):\n",
    "    def __init__(self,input_size,hidden_size , num_classes):\n",
    "        super(Neural_Network2, self).__init__()\n",
    "        self.l1 = nn.Linear(input_size, hidden_size)\n",
    "        self.relu = nn.ReLU()\n",
    "        self.l2 = nn.Linear(hidden_size, num_classes)\n",
    "        \n",
    "    def forward(self,x):\n",
    "        out = self.l1(x)\n",
    "        out = self.relu(out)\n",
    "        out = self.l2(out)\n",
    "        return out"
   ]
  },
  {
   "cell_type": "code",
   "execution_count": 21,
   "id": "89f18657",
   "metadata": {},
   "outputs": [],
   "source": [
    "model = Neural_Network2(784,100,10)"
   ]
  },
  {
   "cell_type": "markdown",
   "id": "f74c9b37",
   "metadata": {},
   "source": [
    "## Loss"
   ]
  },
  {
   "cell_type": "code",
   "execution_count": 22,
   "id": "22856ba3",
   "metadata": {},
   "outputs": [],
   "source": [
    "loss = nn.CrossEntropyLoss()"
   ]
  },
  {
   "cell_type": "markdown",
   "id": "4636d147",
   "metadata": {},
   "source": [
    "## Optimizer"
   ]
  },
  {
   "cell_type": "code",
   "execution_count": 23,
   "id": "cbf61f61",
   "metadata": {},
   "outputs": [],
   "source": [
    "optimizer = torch.optim.Adam(model.parameters(),lr= 0.01)"
   ]
  },
  {
   "cell_type": "markdown",
   "id": "1bb10d06",
   "metadata": {},
   "source": [
    "## Condition of training"
   ]
  },
  {
   "cell_type": "code",
   "execution_count": 24,
   "id": "18a48dc9",
   "metadata": {},
   "outputs": [],
   "source": [
    "num_epochs = 10"
   ]
  },
  {
   "cell_type": "markdown",
   "id": "35fb140f",
   "metadata": {},
   "source": [
    "## Training"
   ]
  },
  {
   "cell_type": "code",
   "execution_count": 25,
   "id": "ab36d20f",
   "metadata": {},
   "outputs": [
    {
     "name": "stdout",
     "output_type": "stream",
     "text": [
      "[INFO]:  epoch : 1/10, loss: 0.1889\n",
      "[INFO]:  epoch : 2/10, loss: 0.1543\n",
      "[INFO]:  epoch : 3/10, loss: 0.1125\n",
      "[INFO]:  epoch : 4/10, loss: 0.0632\n",
      "[INFO]:  epoch : 5/10, loss: 0.0231\n",
      "[INFO]:  epoch : 6/10, loss: 0.2230\n",
      "[INFO]:  epoch : 7/10, loss: 0.0765\n",
      "[INFO]:  epoch : 8/10, loss: 0.0093\n",
      "[INFO]:  epoch : 9/10, loss: 0.0866\n",
      "[INFO]:  epoch : 10/10, loss: 0.1177\n"
     ]
    }
   ],
   "source": [
    "for epoch in range(1,num_epochs+1):\n",
    "    for i , (images, labels) in enumerate(train_dataloader):\n",
    "        ## reshape images\n",
    "        images = torch.reshape(images, (-1, 28*28))\n",
    "        y_pred = model(images)\n",
    "        l = loss(y_pred,labels)\n",
    "        l.backward()\n",
    "        optimizer.step()\n",
    "        optimizer.zero_grad()\n",
    "    print(f\"[INFO]:  epoch : {epoch}/{num_epochs}, loss: {l.item():.4f}\")"
   ]
  },
  {
   "cell_type": "markdown",
   "id": "4fc3a07e",
   "metadata": {},
   "source": [
    "## test"
   ]
  },
  {
   "cell_type": "code",
   "execution_count": 27,
   "id": "54f00f2d",
   "metadata": {},
   "outputs": [
    {
     "name": "stdout",
     "output_type": "stream",
     "text": [
      "Accuracy : 96.76\n"
     ]
    }
   ],
   "source": [
    "with torch.no_grad():\n",
    "    correct = 0\n",
    "    total = 0\n",
    "    for images,labels in test_dataloader:\n",
    "        images = torch.reshape(images,(-1,784))\n",
    "        outputs = model(images)\n",
    "        \n",
    "        _, predictions = torch.max(outputs,1)\n",
    "        total += labels.shape[0]\n",
    "        correct += (predictions==labels).sum().item()\n",
    "        \n",
    "    acc = 100.0*correct/total\n",
    "    print(f\"Accuracy : {acc:.2f}\")\n",
    "        \n",
    "        \n",
    "        "
   ]
  },
  {
   "cell_type": "code",
   "execution_count": null,
   "id": "a47b9a1e",
   "metadata": {},
   "outputs": [],
   "source": []
  }
 ],
 "metadata": {
  "kernelspec": {
   "display_name": "Python 3",
   "language": "python",
   "name": "python3"
  },
  "language_info": {
   "codemirror_mode": {
    "name": "ipython",
    "version": 3
   },
   "file_extension": ".py",
   "mimetype": "text/x-python",
   "name": "python",
   "nbconvert_exporter": "python",
   "pygments_lexer": "ipython3",
   "version": "3.8.8"
  }
 },
 "nbformat": 4,
 "nbformat_minor": 5
}
