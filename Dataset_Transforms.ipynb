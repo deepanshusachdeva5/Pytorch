{
 "cells": [
  {
   "cell_type": "code",
   "execution_count": 5,
   "id": "235b9ba7",
   "metadata": {},
   "outputs": [],
   "source": [
    "import torch\n",
    "import numpy as np\n",
    "from torch.utils.data import Dataset\n",
    "import torchvision"
   ]
  },
  {
   "cell_type": "code",
   "execution_count": 12,
   "id": "0dff6994",
   "metadata": {},
   "outputs": [],
   "source": [
    "class WineDataset(Dataset):\n",
    "    def __init__(self,path,transform = None):\n",
    "        data = np.loadtxt(path,delimiter=\",\",skiprows = 1 )\n",
    "        self.x = data[:,1:]\n",
    "        self.y = data[:,[0]]\n",
    "        self.transform = transform\n",
    "        self.nsamples = data.shape[0]\n",
    "        \n",
    "    def __getitem__(self,index):\n",
    "        sample = self.x[index],self.y[index]\n",
    "        if self.transform is not None:\n",
    "            sample = self.transform(sample)\n",
    "            \n",
    "        return sample\n",
    "    \n",
    "    def __len__(self):\n",
    "        return self.nsamples    "
   ]
  },
  {
   "cell_type": "markdown",
   "id": "03c86b08",
   "metadata": {},
   "source": [
    "## Transform Classes"
   ]
  },
  {
   "cell_type": "code",
   "execution_count": 13,
   "id": "13da875a",
   "metadata": {},
   "outputs": [],
   "source": [
    "class To_Tensor():\n",
    "    def __call__(self,sample):\n",
    "        x , y = sample\n",
    "        return torch.from_numpy(x), torch.from_numpy(y)\n",
    "    \n",
    "class Mul_Tensor():\n",
    "    def __init__(self,factor):\n",
    "        self.factor = factor\n",
    "    \n",
    "    def __call__(self,sample):\n",
    "        x, y = sample\n",
    "        return x*self.factor, y    "
   ]
  },
  {
   "cell_type": "code",
   "execution_count": 14,
   "id": "72519595",
   "metadata": {},
   "outputs": [],
   "source": [
    "composed = torchvision.transforms.Compose([To_Tensor(),Mul_Tensor(2)])"
   ]
  },
  {
   "cell_type": "code",
   "execution_count": 15,
   "id": "414e51f6",
   "metadata": {},
   "outputs": [
    {
     "name": "stdout",
     "output_type": "stream",
     "text": [
      "tensor([2.8460e+01, 3.4200e+00, 4.8600e+00, 3.1200e+01, 2.5400e+02, 5.6000e+00,\n",
      "        6.1200e+00, 5.6000e-01, 4.5800e+00, 1.1280e+01, 2.0800e+00, 7.8400e+00,\n",
      "        2.1300e+03], dtype=torch.float64)\n"
     ]
    }
   ],
   "source": [
    "dataset = WineDataset(path = \"./wine.csv\",transform = composed)\n",
    "features, labels = dataset[0]\n",
    "print(features)"
   ]
  },
  {
   "cell_type": "code",
   "execution_count": null,
   "id": "e27fc2be",
   "metadata": {},
   "outputs": [],
   "source": []
  }
 ],
 "metadata": {
  "kernelspec": {
   "display_name": "Python 3",
   "language": "python",
   "name": "python3"
  },
  "language_info": {
   "codemirror_mode": {
    "name": "ipython",
    "version": 3
   },
   "file_extension": ".py",
   "mimetype": "text/x-python",
   "name": "python",
   "nbconvert_exporter": "python",
   "pygments_lexer": "ipython3",
   "version": "3.8.8"
  }
 },
 "nbformat": 4,
 "nbformat_minor": 5
}
