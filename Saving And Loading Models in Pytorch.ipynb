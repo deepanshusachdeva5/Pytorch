{
 "cells": [
  {
   "cell_type": "code",
   "execution_count": 1,
   "id": "a7f563a2",
   "metadata": {},
   "outputs": [],
   "source": [
    "import torch\n",
    "import torchvision"
   ]
  },
  {
   "cell_type": "code",
   "execution_count": 10,
   "id": "2de4e3ff",
   "metadata": {},
   "outputs": [],
   "source": [
    "class Model(torch.nn.Module):\n",
    "    def __init__(self,n_features):\n",
    "        super(Model,self).__init__()\n",
    "        self.l1 = torch.nn.Linear(n_features,2)\n",
    "        \n",
    "    def forward(self,x):\n",
    "        x = self.l1(x)\n",
    "        return x"
   ]
  },
  {
   "cell_type": "code",
   "execution_count": 11,
   "id": "d3ef5ac3",
   "metadata": {},
   "outputs": [],
   "source": [
    "model = Model(6)"
   ]
  },
  {
   "cell_type": "markdown",
   "id": "1c2f2759",
   "metadata": {},
   "source": [
    "## Types of Load and Save"
   ]
  },
  {
   "cell_type": "markdown",
   "id": "054eef4d",
   "metadata": {},
   "source": [
    "#### Type 1: Entire model using torch.save(model,FILE_PATH) "
   ]
  },
  {
   "cell_type": "code",
   "execution_count": 12,
   "id": "9010e45b",
   "metadata": {},
   "outputs": [],
   "source": [
    "import os\n",
    "model_dir = './saved_models'\n",
    "if not os.path.exists(model_dir):\n",
    "    os.makedirs(model_dir)\n",
    "    \n",
    "##------------Saving---------------------\n",
    "FILE_PATH = f'{model_dir}/model_trial.pth'\n",
    "torch.save(model,FILE_PATH)"
   ]
  },
  {
   "cell_type": "code",
   "execution_count": 14,
   "id": "0f0812a2",
   "metadata": {},
   "outputs": [
    {
     "name": "stdout",
     "output_type": "stream",
     "text": [
      "Parameter containing:\n",
      "tensor([[-0.2305,  0.0329, -0.3841,  0.1831, -0.0626,  0.1721],\n",
      "        [ 0.0443, -0.0983, -0.1339,  0.0677,  0.0040,  0.2238]],\n",
      "       requires_grad=True)\n",
      "Parameter containing:\n",
      "tensor([-0.3289, -0.3627], requires_grad=True)\n"
     ]
    }
   ],
   "source": [
    "##-------------Loading--------------------\n",
    "model = torch.load(FILE_PATH)\n",
    "model.eval()\n",
    "for param in model.parameters():\n",
    "    print(param)"
   ]
  },
  {
   "cell_type": "markdown",
   "id": "777fbdf4",
   "metadata": {},
   "source": [
    "#### Type 2: model State Dict using torch.save(model.state_dict(),FILE_PATH) "
   ]
  },
  {
   "cell_type": "code",
   "execution_count": 15,
   "id": "88441dd0",
   "metadata": {},
   "outputs": [],
   "source": [
    "import os\n",
    "model_dir = './saved_models'\n",
    "if not os.path.exists(model_dir):\n",
    "    os.makedirs(model_dir)\n",
    "    \n",
    "##------------Saving---------------------\n",
    "FILE_PATH = f'{model_dir}/model_trial_state_dict.pth'\n",
    "torch.save(model.state_dict(),FILE_PATH)"
   ]
  },
  {
   "cell_type": "code",
   "execution_count": 16,
   "id": "3864d4be",
   "metadata": {},
   "outputs": [
    {
     "data": {
      "text/plain": [
       "Model(\n",
       "  (l1): Linear(in_features=6, out_features=2, bias=True)\n",
       ")"
      ]
     },
     "execution_count": 16,
     "metadata": {},
     "output_type": "execute_result"
    }
   ],
   "source": [
    "## -----------Loading-------------------\n",
    "## Extra but safe step of initilializing the model\n",
    "model_load = Model(6)\n",
    "model_load.load_state_dict(torch.load(FILE_PATH))\n",
    "model_load.eval()"
   ]
  },
  {
   "cell_type": "code",
   "execution_count": 17,
   "id": "468a05b3",
   "metadata": {},
   "outputs": [
    {
     "name": "stdout",
     "output_type": "stream",
     "text": [
      "Parameter containing:\n",
      "tensor([[-0.2305,  0.0329, -0.3841,  0.1831, -0.0626,  0.1721],\n",
      "        [ 0.0443, -0.0983, -0.1339,  0.0677,  0.0040,  0.2238]],\n",
      "       requires_grad=True)\n",
      "Parameter containing:\n",
      "tensor([-0.3289, -0.3627], requires_grad=True)\n"
     ]
    }
   ],
   "source": [
    "for param in model_load.parameters():\n",
    "    print(param)"
   ]
  },
  {
   "cell_type": "markdown",
   "id": "dd0e4837",
   "metadata": {},
   "source": [
    "#### Type3: Using Checkpoint dictionary"
   ]
  },
  {
   "cell_type": "code",
   "execution_count": 18,
   "id": "fc60262c",
   "metadata": {},
   "outputs": [],
   "source": [
    "epochs = 10\n",
    "optimizer = torch.optim.SGD(model.parameters(),lr = 0.01)\n",
    "checkpoint = {\n",
    "    'epoch': epochs,\n",
    "    'model_state': model.state_dict(),\n",
    "    'optimizer': optimizer.state_dict()\n",
    "}"
   ]
  },
  {
   "cell_type": "code",
   "execution_count": 19,
   "id": "0c247da8",
   "metadata": {},
   "outputs": [],
   "source": [
    "import os\n",
    "model_dir = './saved_models'\n",
    "if not os.path.exists(model_dir):\n",
    "    os.makedirs(model_dir)\n",
    "    \n",
    "##------------Saving---------------------\n",
    "FILE_PATH = f'{model_dir}/model_trial_checkpoint.pth'\n",
    "torch.save(checkpoint,FILE_PATH)"
   ]
  },
  {
   "cell_type": "code",
   "execution_count": 25,
   "id": "1db1a386",
   "metadata": {},
   "outputs": [
    {
     "name": "stdout",
     "output_type": "stream",
     "text": [
      "Parameter containing:\n",
      "tensor([[-0.2305,  0.0329, -0.3841,  0.1831, -0.0626,  0.1721],\n",
      "        [ 0.0443, -0.0983, -0.1339,  0.0677,  0.0040,  0.2238]],\n",
      "       requires_grad=True)\n",
      "Parameter containing:\n",
      "tensor([-0.3289, -0.3627], requires_grad=True)\n"
     ]
    }
   ],
   "source": [
    "## -----------Loading--------------------\n",
    "checkpoint_loaded = torch.load(FILE_PATH)\n",
    "# print(checkpoint_loaded)\n",
    "epoch = checkpoint_loaded['epoch']\n",
    "# print(epoch)\n",
    "##-----------Loading model-----------------\n",
    "model = Model(6)\n",
    "model.load_state_dict(checkpoint_loaded['model_state'])\n",
    "model.eval()\n",
    "for param in model.parameters():\n",
    "    print(param)"
   ]
  },
  {
   "cell_type": "markdown",
   "id": "71c0e2ea",
   "metadata": {},
   "source": [
    "## Saving on GPU, Loading on CPU"
   ]
  },
  {
   "cell_type": "code",
   "execution_count": 27,
   "id": "c1810581",
   "metadata": {},
   "outputs": [
    {
     "name": "stdout",
     "output_type": "stream",
     "text": [
      "Parameter containing:\n",
      "tensor([[-0.2305,  0.0329, -0.3841,  0.1831, -0.0626,  0.1721],\n",
      "        [ 0.0443, -0.0983, -0.1339,  0.0677,  0.0040,  0.2238]],\n",
      "       requires_grad=True)\n",
      "Parameter containing:\n",
      "tensor([-0.3289, -0.3627], requires_grad=True)\n"
     ]
    }
   ],
   "source": [
    "import os\n",
    "device = torch.device('cuda')\n",
    "model.to(device)\n",
    "\n",
    "\n",
    "model_dir = './saved_models'\n",
    "if not os.path.exists(model_dir):\n",
    "    os.makedirs(model_dir)\n",
    "    \n",
    "##------------Saving---------------------\n",
    "FILE_PATH = f'{model_dir}/model_trial_gpu_cpu.pth'\n",
    "torch.save(model.state_dict(),FILE_PATH)\n",
    "\n",
    "##-----------Loading---------------------\n",
    "device = torch.device('cpu')\n",
    "model = Model(6)\n",
    "model.load_state_dict(torch.load(FILE_PATH,map_location=device))\n",
    "model.eval()\n",
    "\n",
    "for param in model.parameters():\n",
    "    print(param)"
   ]
  },
  {
   "cell_type": "markdown",
   "id": "d4225151",
   "metadata": {},
   "source": [
    "## Saving on GPU , Loading on GPU"
   ]
  },
  {
   "cell_type": "code",
   "execution_count": 28,
   "id": "841f6855",
   "metadata": {},
   "outputs": [
    {
     "data": {
      "text/plain": [
       "Model(\n",
       "  (l1): Linear(in_features=6, out_features=2, bias=True)\n",
       ")"
      ]
     },
     "execution_count": 28,
     "metadata": {},
     "output_type": "execute_result"
    }
   ],
   "source": [
    "import os\n",
    "\n",
    "device = torch.device('cuda')\n",
    "model.to(device)\n",
    "\n",
    "model_dir = './saved_models'\n",
    "if not os.path.exists(model_dir):\n",
    "    os.makedirs(model_dir)\n",
    "    \n",
    "##------------Saving---------------------\n",
    "FILE_PATH = f'{model_dir}/model_trial_gpu_gpu.pth'\n",
    "torch.save(model.state_dict(),FILE_PATH)\n",
    "\n",
    "model = Model(6)\n",
    "model.load_state_dict(torch.load(FILE_PATH))\n",
    "model.to(device)\n",
    "model.eval()"
   ]
  },
  {
   "cell_type": "markdown",
   "id": "dcc46917",
   "metadata": {},
   "source": [
    "## Saving on CPU , Loading on GPU"
   ]
  },
  {
   "cell_type": "code",
   "execution_count": 29,
   "id": "fc946450",
   "metadata": {},
   "outputs": [
    {
     "data": {
      "text/plain": [
       "Model(\n",
       "  (l1): Linear(in_features=6, out_features=2, bias=True)\n",
       ")"
      ]
     },
     "execution_count": 29,
     "metadata": {},
     "output_type": "execute_result"
    }
   ],
   "source": [
    "model_dir = './saved_models'\n",
    "if not os.path.exists(model_dir):\n",
    "    os.makedirs(model_dir)\n",
    "    \n",
    "FILE_PATH = f'{model_dir}/model_trial_cpu_gpu.pth'\n",
    "torch.save(model.state_dict(),FILE_PATH)\n",
    "\n",
    "device = torch.device('cuda')\n",
    "model = Model(6)\n",
    "model.load_state_dict(torch.load(FILE_PATH,map_location='cuda:0'))\n",
    "model.to(device)\n",
    "model.eval()"
   ]
  },
  {
   "cell_type": "code",
   "execution_count": null,
   "id": "439450df",
   "metadata": {},
   "outputs": [],
   "source": []
  }
 ],
 "metadata": {
  "kernelspec": {
   "display_name": "Python 3",
   "language": "python",
   "name": "python3"
  },
  "language_info": {
   "codemirror_mode": {
    "name": "ipython",
    "version": 3
   },
   "file_extension": ".py",
   "mimetype": "text/x-python",
   "name": "python",
   "nbconvert_exporter": "python",
   "pygments_lexer": "ipython3",
   "version": "3.8.8"
  }
 },
 "nbformat": 4,
 "nbformat_minor": 5
}
