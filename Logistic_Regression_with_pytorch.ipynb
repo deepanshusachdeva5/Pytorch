{
 "cells": [
  {
   "cell_type": "code",
   "execution_count": 1,
   "id": "46724f3b",
   "metadata": {},
   "outputs": [],
   "source": [
    "import torch\n",
    "import torch.nn as nn\n",
    "from sklearn import datasets\n",
    "import numpy as np\n",
    "import matplotlib.pyplot as plt\n",
    "from sklearn.model_selection import train_test_split\n",
    "from sklearn.preprocessing import StandardScaler"
   ]
  },
  {
   "cell_type": "code",
   "execution_count": 2,
   "id": "7d042476",
   "metadata": {},
   "outputs": [],
   "source": [
    "bc = datasets.load_breast_cancer()\n",
    "X = bc.data\n",
    "y = bc.target"
   ]
  },
  {
   "cell_type": "code",
   "execution_count": 3,
   "id": "b406f224",
   "metadata": {},
   "outputs": [
    {
     "name": "stdout",
     "output_type": "stream",
     "text": [
      "(569, 30)\n"
     ]
    }
   ],
   "source": [
    "print(X.shape)"
   ]
  },
  {
   "cell_type": "code",
   "execution_count": 4,
   "id": "2de6ec28",
   "metadata": {},
   "outputs": [
    {
     "name": "stdout",
     "output_type": "stream",
     "text": [
      "(569,)\n"
     ]
    }
   ],
   "source": [
    "print(y.shape)"
   ]
  },
  {
   "cell_type": "code",
   "execution_count": 5,
   "id": "8d02a25d",
   "metadata": {},
   "outputs": [],
   "source": [
    "X_train, X_test, y_train, y_test = train_test_split(X, y, test_size=0.25, random_state=42)"
   ]
  },
  {
   "cell_type": "code",
   "execution_count": 6,
   "id": "bfad4621",
   "metadata": {},
   "outputs": [],
   "source": [
    "sc = StandardScaler()\n",
    "X_train = sc.fit_transform(X_train)\n",
    "X_test = sc.transform(X_test)"
   ]
  },
  {
   "cell_type": "code",
   "execution_count": 7,
   "id": "bd592e2f",
   "metadata": {},
   "outputs": [],
   "source": [
    "X_train = torch.from_numpy(X_train.astype(np.float32))\n",
    "X_test = torch.from_numpy(X_test.astype(np.float32))\n",
    "y_train = torch.from_numpy(y_train.astype(np.float32))\n",
    "y_test = torch.from_numpy(y_test.astype(np.float32))"
   ]
  },
  {
   "cell_type": "code",
   "execution_count": 8,
   "id": "6c369526",
   "metadata": {},
   "outputs": [],
   "source": [
    "y_train = y_train.view(y_train.shape[0],1)\n",
    "y_test = y_test.view(y_test.shape[0],1)"
   ]
  },
  {
   "cell_type": "code",
   "execution_count": 9,
   "id": "e2619564",
   "metadata": {},
   "outputs": [
    {
     "name": "stdout",
     "output_type": "stream",
     "text": [
      "torch.Size([426, 1]) torch.Size([143, 1])\n"
     ]
    }
   ],
   "source": [
    "print(y_train.shape,y_test.shape)"
   ]
  },
  {
   "cell_type": "code",
   "execution_count": 10,
   "id": "786a6c05",
   "metadata": {},
   "outputs": [],
   "source": [
    "nSamples , nFeatures = X.shape"
   ]
  },
  {
   "cell_type": "markdown",
   "id": "a0dfa686",
   "metadata": {},
   "source": [
    "## Model Initialization"
   ]
  },
  {
   "cell_type": "code",
   "execution_count": 31,
   "id": "857a8190",
   "metadata": {},
   "outputs": [],
   "source": [
    "class LogisticRegression(nn.Module):\n",
    "    def __init__(self,input_features):\n",
    "        super(LogisticRegression,self).__init__()\n",
    "        self.linear = nn.Linear(input_features,1)\n",
    "        \n",
    "    def forward(self,x):\n",
    "        y_predicted = torch.sigmoid(self.linear(x))\n",
    "        return y_predicted"
   ]
  },
  {
   "cell_type": "code",
   "execution_count": 32,
   "id": "1e68f8b1",
   "metadata": {},
   "outputs": [],
   "source": [
    "model = LogisticRegression(nFeatures)"
   ]
  },
  {
   "cell_type": "code",
   "execution_count": 33,
   "id": "a862ae7d",
   "metadata": {},
   "outputs": [],
   "source": [
    "learning_rate = 0.01\n",
    "loss = nn.BCELoss()\n",
    "optimizer = torch.optim.SGD(model.parameters(),lr = learning_rate)"
   ]
  },
  {
   "cell_type": "markdown",
   "id": "8a51ebc6",
   "metadata": {},
   "source": [
    "## Training Iterations"
   ]
  },
  {
   "cell_type": "code",
   "execution_count": 34,
   "id": "37607020",
   "metadata": {},
   "outputs": [
    {
     "name": "stdout",
     "output_type": "stream",
     "text": [
      "[INFO] Training started...\n",
      "[INFO] Epoch : 99, loss: 0.26234349608421326\n",
      "[INFO] Epoch : 199, loss: 0.19499917328357697\n",
      "[INFO] Epoch : 299, loss: 0.16529785096645355\n",
      "[INFO] Epoch : 399, loss: 0.1478390097618103\n",
      "[INFO] Epoch : 499, loss: 0.1360911726951599\n",
      "[INFO] Epoch : 599, loss: 0.12752072513103485\n",
      "[INFO] Epoch : 699, loss: 0.12092319130897522\n",
      "[INFO] Epoch : 799, loss: 0.11564697325229645\n",
      "[INFO] Epoch : 899, loss: 0.11130577325820923\n",
      "[INFO] Epoch : 999, loss: 0.10765447467565536\n"
     ]
    }
   ],
   "source": [
    "epochs = 1000\n",
    "print(\"[INFO] Training started...\")\n",
    "for epoch in range(epochs):\n",
    "    y_pred = model(X_train)\n",
    "    \n",
    "    l = loss(y_pred,y_train)\n",
    "    \n",
    "    l.backward()\n",
    "    \n",
    "    optimizer.step()\n",
    "    \n",
    "    optimizer.zero_grad()\n",
    "    \n",
    "    if (epoch +1)%100==0:\n",
    "        print(f\"[INFO] Epoch : {epoch}, loss: {l.item()}\")"
   ]
  },
  {
   "cell_type": "markdown",
   "id": "6b59c3f6",
   "metadata": {},
   "source": [
    "## Test on test_data"
   ]
  },
  {
   "cell_type": "code",
   "execution_count": 35,
   "id": "81cfb2cc",
   "metadata": {},
   "outputs": [
    {
     "name": "stdout",
     "output_type": "stream",
     "text": [
      "[INFO] Testing Accuracy...\n",
      "[INFO] Accuracy : 0.9860\n"
     ]
    }
   ],
   "source": [
    "print(\"[INFO] Testing Accuracy...\")\n",
    "\n",
    "with torch.no_grad():\n",
    "    y_pred = model(X_test)\n",
    "    y_pred = y_pred.round()\n",
    "    acc = y_pred.eq(y_test).sum()/float(y_test.shape[0])\n",
    "    print(f\"[INFO] Accuracy : {acc:.4f}\")"
   ]
  },
  {
   "cell_type": "code",
   "execution_count": null,
   "id": "ac8d87f9",
   "metadata": {},
   "outputs": [],
   "source": []
  },
  {
   "cell_type": "code",
   "execution_count": null,
   "id": "4731549d",
   "metadata": {},
   "outputs": [],
   "source": []
  }
 ],
 "metadata": {
  "kernelspec": {
   "display_name": "Python 3",
   "language": "python",
   "name": "python3"
  },
  "language_info": {
   "codemirror_mode": {
    "name": "ipython",
    "version": 3
   },
   "file_extension": ".py",
   "mimetype": "text/x-python",
   "name": "python",
   "nbconvert_exporter": "python",
   "pygments_lexer": "ipython3",
   "version": "3.8.8"
  }
 },
 "nbformat": 4,
 "nbformat_minor": 5
}
