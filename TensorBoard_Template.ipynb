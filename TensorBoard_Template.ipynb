{
 "cells": [
  {
   "cell_type": "markdown",
   "id": "701e4569",
   "metadata": {},
   "source": [
    "## Imports"
   ]
  },
  {
   "cell_type": "code",
   "execution_count": 12,
   "id": "78cf7b08",
   "metadata": {},
   "outputs": [],
   "source": [
    "import torch\n",
    "import torch.nn as nn"
   ]
  },
  {
   "cell_type": "markdown",
   "id": "d5e6df1e",
   "metadata": {},
   "source": [
    "## Tensorboard writer"
   ]
  },
  {
   "cell_type": "code",
   "execution_count": 13,
   "id": "396ca843",
   "metadata": {},
   "outputs": [],
   "source": [
    "from torch.utils.tensorboard import SummaryWriter"
   ]
  },
  {
   "cell_type": "markdown",
   "id": "0f1fc02c",
   "metadata": {},
   "source": [
    "## Initialize Tensorboard"
   ]
  },
  {
   "cell_type": "code",
   "execution_count": 14,
   "id": "0349703b",
   "metadata": {},
   "outputs": [],
   "source": [
    "writer = SummaryWriter(\"runs/mnist_trial\")"
   ]
  },
  {
   "cell_type": "code",
   "execution_count": 26,
   "id": "7238dc84",
   "metadata": {},
   "outputs": [],
   "source": [
    "class Neural_Network(nn.Module):\n",
    "    def __init__(self,input_size , hidden_size , num_classes):\n",
    "        super(Neural_Network,self).__init__()\n",
    "        self.linear1 = nn.Linear(input_size, hidden_size)\n",
    "        self.relu = nn.ReLU()\n",
    "        self.linear2 = nn.Linear(hidden_size, 1)\n",
    "    \n",
    "    def forward(self,x):\n",
    "        out = self.linear1(x)\n",
    "        out = self.relu(out)\n",
    "        out = self.linear2(out)\n",
    "        ## if applying nn.BCEloss then involve sigmoid at last\n",
    "        y_pred = nn.Sigmoid(out)\n",
    "        return y_pred"
   ]
  },
  {
   "cell_type": "code",
   "execution_count": 27,
   "id": "ebfd5072",
   "metadata": {},
   "outputs": [],
   "source": [
    "model = Neural_Network(28*28,5,1)"
   ]
  },
  {
   "cell_type": "code",
   "execution_count": 28,
   "id": "e2a746cb",
   "metadata": {},
   "outputs": [],
   "source": [
    "criterion = nn.BCELoss()"
   ]
  },
  {
   "cell_type": "markdown",
   "id": "1547aba0",
   "metadata": {},
   "source": [
    "## Load MNIST dataset"
   ]
  },
  {
   "cell_type": "code",
   "execution_count": 29,
   "id": "d0d46ca0",
   "metadata": {},
   "outputs": [],
   "source": [
    "import torchvision\n",
    "from torchvision import transforms"
   ]
  },
  {
   "cell_type": "code",
   "execution_count": 30,
   "id": "c1014c03",
   "metadata": {},
   "outputs": [],
   "source": [
    "train_dataset = torchvision.datasets.MNIST(root =\"./data\",download = True, train = True,transform = transforms.ToTensor())"
   ]
  },
  {
   "cell_type": "code",
   "execution_count": 31,
   "id": "50373c61",
   "metadata": {},
   "outputs": [],
   "source": [
    "test_dataset = torchvision.datasets.MNIST(root = './data',train = False,transform = transforms.ToTensor())\n"
   ]
  },
  {
   "cell_type": "code",
   "execution_count": 32,
   "id": "843ac3f3",
   "metadata": {},
   "outputs": [],
   "source": [
    "train_dataloader = torch.utils.data.DataLoader(dataset = train_dataset,batch_size = 100, shuffle = True)"
   ]
  },
  {
   "cell_type": "code",
   "execution_count": 33,
   "id": "c7e4fe3a",
   "metadata": {},
   "outputs": [],
   "source": [
    "test_dataloader = torch.utils.data.DataLoader(dataset = test_dataset,batch_size = 100)"
   ]
  },
  {
   "cell_type": "code",
   "execution_count": 34,
   "id": "9c7d350b",
   "metadata": {},
   "outputs": [],
   "source": [
    "examples = iter(train_dataloader)\n",
    "samples, labels = examples.next()"
   ]
  },
  {
   "cell_type": "code",
   "execution_count": 35,
   "id": "f23e8337",
   "metadata": {},
   "outputs": [
    {
     "name": "stdout",
     "output_type": "stream",
     "text": [
      "torch.Size([100, 1, 28, 28]) torch.Size([100])\n"
     ]
    }
   ],
   "source": [
    "print(samples.shape,labels.shape)"
   ]
  },
  {
   "cell_type": "markdown",
   "id": "ab567438",
   "metadata": {},
   "source": [
    "## implementing Neural Network for Multiple Classes"
   ]
  },
  {
   "cell_type": "code",
   "execution_count": 37,
   "id": "51e2b6a8",
   "metadata": {},
   "outputs": [],
   "source": [
    "# same as above just sigmoid won't be used"
   ]
  },
  {
   "cell_type": "code",
   "execution_count": 38,
   "id": "de82f087",
   "metadata": {},
   "outputs": [],
   "source": [
    "class Neural_Network2(nn.Module):\n",
    "    def __init__(self,input_size,hidden_size , num_classes):\n",
    "        super(Neural_Network2, self).__init__()\n",
    "        self.l1 = nn.Linear(input_size, hidden_size)\n",
    "        self.relu = nn.ReLU()\n",
    "        self.l2 = nn.Linear(hidden_size, num_classes)\n",
    "        \n",
    "    def forward(self,x):\n",
    "        out = self.l1(x)\n",
    "        out = self.relu(out)\n",
    "        out = self.l2(out)\n",
    "        return out"
   ]
  },
  {
   "cell_type": "code",
   "execution_count": 39,
   "id": "89f18657",
   "metadata": {},
   "outputs": [],
   "source": [
    "model = Neural_Network2(784,100,10)"
   ]
  },
  {
   "cell_type": "markdown",
   "id": "f74c9b37",
   "metadata": {},
   "source": [
    "## Loss"
   ]
  },
  {
   "cell_type": "code",
   "execution_count": 40,
   "id": "22856ba3",
   "metadata": {},
   "outputs": [],
   "source": [
    "loss = nn.CrossEntropyLoss()"
   ]
  },
  {
   "cell_type": "markdown",
   "id": "4636d147",
   "metadata": {},
   "source": [
    "## Optimizer"
   ]
  },
  {
   "cell_type": "code",
   "execution_count": 41,
   "id": "cbf61f61",
   "metadata": {},
   "outputs": [],
   "source": [
    "optimizer = torch.optim.Adam(model.parameters(),lr= 0.01)"
   ]
  },
  {
   "cell_type": "markdown",
   "id": "1bdbbfb1",
   "metadata": {},
   "source": [
    "## Writing to Tensorboard"
   ]
  },
  {
   "cell_type": "code",
   "execution_count": 46,
   "id": "d1fe5d1b",
   "metadata": {},
   "outputs": [],
   "source": [
    "writer.add_graph(model,samples.reshape(-1,28*28))\n",
    "writer.close()"
   ]
  },
  {
   "cell_type": "markdown",
   "id": "1bb10d06",
   "metadata": {},
   "source": [
    "## Condition of training"
   ]
  },
  {
   "cell_type": "code",
   "execution_count": 48,
   "id": "18a48dc9",
   "metadata": {},
   "outputs": [],
   "source": [
    "num_epochs = 10"
   ]
  },
  {
   "cell_type": "markdown",
   "id": "2b11e482",
   "metadata": {},
   "source": [
    "## Initializing variables for Tensorboard"
   ]
  },
  {
   "cell_type": "code",
   "execution_count": 49,
   "id": "65863c63",
   "metadata": {},
   "outputs": [],
   "source": [
    "running_loss = 0.0\n",
    "running_correct = 0.0"
   ]
  },
  {
   "cell_type": "markdown",
   "id": "35fb140f",
   "metadata": {},
   "source": [
    "## Training"
   ]
  },
  {
   "cell_type": "code",
   "execution_count": 51,
   "id": "ab36d20f",
   "metadata": {},
   "outputs": [
    {
     "name": "stdout",
     "output_type": "stream",
     "text": [
      "[INFO]:  epoch : 1/10, loss: 0.4457\n",
      "[INFO]:  epoch : 1/10, loss: 0.1645\n",
      "[INFO]:  epoch : 1/10, loss: 0.1280\n",
      "[INFO]:  epoch : 1/10, loss: 0.1694\n",
      "[INFO]:  epoch : 1/10, loss: 0.2081\n",
      "[INFO]:  epoch : 1/10, loss: 0.1296\n",
      "[INFO]:  epoch : 2/10, loss: 0.1403\n",
      "[INFO]:  epoch : 2/10, loss: 0.0118\n",
      "[INFO]:  epoch : 2/10, loss: 0.0539\n",
      "[INFO]:  epoch : 2/10, loss: 0.0509\n",
      "[INFO]:  epoch : 2/10, loss: 0.0380\n",
      "[INFO]:  epoch : 2/10, loss: 0.1460\n",
      "[INFO]:  epoch : 3/10, loss: 0.1088\n",
      "[INFO]:  epoch : 3/10, loss: 0.0570\n",
      "[INFO]:  epoch : 3/10, loss: 0.0442\n",
      "[INFO]:  epoch : 3/10, loss: 0.0896\n",
      "[INFO]:  epoch : 3/10, loss: 0.1555\n",
      "[INFO]:  epoch : 3/10, loss: 0.0718\n",
      "[INFO]:  epoch : 4/10, loss: 0.0741\n",
      "[INFO]:  epoch : 4/10, loss: 0.1441\n",
      "[INFO]:  epoch : 4/10, loss: 0.0365\n",
      "[INFO]:  epoch : 4/10, loss: 0.1610\n",
      "[INFO]:  epoch : 4/10, loss: 0.1175\n",
      "[INFO]:  epoch : 4/10, loss: 0.0283\n",
      "[INFO]:  epoch : 5/10, loss: 0.0317\n",
      "[INFO]:  epoch : 5/10, loss: 0.1242\n",
      "[INFO]:  epoch : 5/10, loss: 0.0855\n",
      "[INFO]:  epoch : 5/10, loss: 0.0812\n",
      "[INFO]:  epoch : 5/10, loss: 0.0891\n",
      "[INFO]:  epoch : 5/10, loss: 0.0495\n",
      "[INFO]:  epoch : 6/10, loss: 0.0057\n",
      "[INFO]:  epoch : 6/10, loss: 0.0172\n",
      "[INFO]:  epoch : 6/10, loss: 0.0301\n",
      "[INFO]:  epoch : 6/10, loss: 0.0013\n",
      "[INFO]:  epoch : 6/10, loss: 0.0267\n",
      "[INFO]:  epoch : 6/10, loss: 0.1472\n",
      "[INFO]:  epoch : 7/10, loss: 0.0674\n",
      "[INFO]:  epoch : 7/10, loss: 0.0297\n",
      "[INFO]:  epoch : 7/10, loss: 0.0188\n",
      "[INFO]:  epoch : 7/10, loss: 0.0112\n",
      "[INFO]:  epoch : 7/10, loss: 0.0487\n",
      "[INFO]:  epoch : 7/10, loss: 0.0347\n",
      "[INFO]:  epoch : 8/10, loss: 0.2961\n",
      "[INFO]:  epoch : 8/10, loss: 0.0495\n",
      "[INFO]:  epoch : 8/10, loss: 0.0315\n",
      "[INFO]:  epoch : 8/10, loss: 0.0033\n",
      "[INFO]:  epoch : 8/10, loss: 0.0194\n",
      "[INFO]:  epoch : 8/10, loss: 0.0148\n",
      "[INFO]:  epoch : 9/10, loss: 0.0304\n",
      "[INFO]:  epoch : 9/10, loss: 0.0353\n",
      "[INFO]:  epoch : 9/10, loss: 0.0449\n",
      "[INFO]:  epoch : 9/10, loss: 0.0430\n",
      "[INFO]:  epoch : 9/10, loss: 0.0810\n",
      "[INFO]:  epoch : 9/10, loss: 0.0016\n",
      "[INFO]:  epoch : 10/10, loss: 0.0759\n",
      "[INFO]:  epoch : 10/10, loss: 0.0013\n",
      "[INFO]:  epoch : 10/10, loss: 0.0332\n",
      "[INFO]:  epoch : 10/10, loss: 0.0473\n",
      "[INFO]:  epoch : 10/10, loss: 0.2048\n",
      "[INFO]:  epoch : 10/10, loss: 0.0555\n"
     ]
    }
   ],
   "source": [
    "\n",
    "for epoch in range(1,num_epochs+1):\n",
    "    for i , (images, labels) in enumerate(train_dataloader):\n",
    "        ## reshape images\n",
    "        images = torch.reshape(images, (-1, 28*28))\n",
    "        y_pred = model(images)\n",
    "        l = loss(y_pred,labels)\n",
    "        \n",
    "        ## =========================Variables for TensorBoard Updated======================\n",
    "        running_loss += l.item()\n",
    "        _,predicted = torch.max(y_pred.data,1)\n",
    "        running_correct += (predicted == labels).sum().item()\n",
    "        ## ========================Variables ended=============================\n",
    "        \n",
    "        \n",
    "        l.backward()\n",
    "        optimizer.step()\n",
    "        optimizer.zero_grad()\n",
    "        \n",
    "        if (i+1)%100==0:\n",
    "            print(f\"[INFO]:  epoch : {epoch}/{num_epochs}, loss: {l.item():.4f}\")\n",
    "            writer.add_scalar('training_loss',running_loss/100,epoch*len(train_dataloader)*i)\n",
    "            writer.add_scalar('training_accuracy',running_correct/100,epoch*len(train_dataloader)*i)\n",
    "            running_loss = 0.0\n",
    "            running_correct = 0.0\n",
    "    "
   ]
  },
  {
   "cell_type": "markdown",
   "id": "4fc3a07e",
   "metadata": {},
   "source": [
    "## test"
   ]
  },
  {
   "cell_type": "code",
   "execution_count": 27,
   "id": "54f00f2d",
   "metadata": {},
   "outputs": [
    {
     "name": "stdout",
     "output_type": "stream",
     "text": [
      "Accuracy : 96.76\n"
     ]
    }
   ],
   "source": [
    "with torch.no_grad():\n",
    "    correct = 0\n",
    "    total = 0\n",
    "    for images,labels in test_dataloader:\n",
    "        images = torch.reshape(images,(-1,784))\n",
    "        outputs = model(images)\n",
    "        \n",
    "        _, predictions = torch.max(outputs,1)\n",
    "        total += labels.shape[0]\n",
    "        correct += (predictions==labels).sum().item()\n",
    "        \n",
    "    acc = 100.0*correct/total\n",
    "    print(f\"Accuracy : {acc:.2f}\")\n",
    "        \n",
    "        \n",
    "        "
   ]
  },
  {
   "cell_type": "code",
   "execution_count": null,
   "id": "a47b9a1e",
   "metadata": {},
   "outputs": [],
   "source": []
  }
 ],
 "metadata": {
  "kernelspec": {
   "display_name": "Python 3",
   "language": "python",
   "name": "python3"
  },
  "language_info": {
   "codemirror_mode": {
    "name": "ipython",
    "version": 3
   },
   "file_extension": ".py",
   "mimetype": "text/x-python",
   "name": "python",
   "nbconvert_exporter": "python",
   "pygments_lexer": "ipython3",
   "version": "3.8.8"
  }
 },
 "nbformat": 4,
 "nbformat_minor": 5
}
