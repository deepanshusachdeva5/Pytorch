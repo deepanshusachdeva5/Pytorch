{
 "cells": [
  {
   "cell_type": "code",
   "execution_count": 3,
   "id": "ee9a3d3b",
   "metadata": {},
   "outputs": [],
   "source": [
    "import torch\n",
    "import torchvision\n",
    "import numpy as np\n",
    "import torchvision.transforms as transforms\n",
    "import torch.nn as nn\n",
    "import torch.nn.functional as F"
   ]
  },
  {
   "cell_type": "code",
   "execution_count": 4,
   "id": "7fe89730",
   "metadata": {},
   "outputs": [],
   "source": [
    "transform = transforms.Compose([transforms.ToTensor(),transforms.Normalize((0.5,0.5,0.5),(0.5,0.5,0.5))])"
   ]
  },
  {
   "cell_type": "code",
   "execution_count": 5,
   "id": "e71a1b00",
   "metadata": {},
   "outputs": [
    {
     "name": "stdout",
     "output_type": "stream",
     "text": [
      "Downloading https://www.cs.toronto.edu/~kriz/cifar-10-python.tar.gz to ./data\\cifar-10-python.tar.gz\n"
     ]
    },
    {
     "data": {
      "application/vnd.jupyter.widget-view+json": {
       "model_id": "8c00d32e212b4f38bb61dd6c7b8054ab",
       "version_major": 2,
       "version_minor": 0
      },
      "text/plain": [
       "  0%|          | 0/170498071 [00:00<?, ?it/s]"
      ]
     },
     "metadata": {},
     "output_type": "display_data"
    },
    {
     "name": "stdout",
     "output_type": "stream",
     "text": [
      "Extracting ./data\\cifar-10-python.tar.gz to ./data\n"
     ]
    }
   ],
   "source": [
    "train_data = torchvision.datasets.CIFAR10(download= True,root='./data',train = True, transform = transform)"
   ]
  },
  {
   "cell_type": "code",
   "execution_count": 7,
   "id": "276033ae",
   "metadata": {},
   "outputs": [
    {
     "name": "stdout",
     "output_type": "stream",
     "text": [
      "Files already downloaded and verified\n"
     ]
    }
   ],
   "source": [
    "test_data = torchvision.datasets.CIFAR10(root='./data',transform = transform,download = True, train = False)"
   ]
  },
  {
   "cell_type": "code",
   "execution_count": 8,
   "id": "568b7832",
   "metadata": {},
   "outputs": [],
   "source": [
    "batch_size = 4\n",
    "train_dataloader = torch.utils.data.DataLoader(dataset= train_data,batch_size = batch_size,shuffle = True)\n",
    "test_dataloader = torch.utils.data.DataLoader(dataset= test_data,batch_size = batch_size,shuffle=False)"
   ]
  },
  {
   "cell_type": "code",
   "execution_count": 17,
   "id": "439e6e26",
   "metadata": {},
   "outputs": [],
   "source": [
    "classes = ['plane','car','bird','cat','deer','dog','frog','horse','ship','truck']"
   ]
  },
  {
   "cell_type": "code",
   "execution_count": 10,
   "id": "0bf4de32",
   "metadata": {},
   "outputs": [],
   "source": [
    "class ConvNet(nn.Module):\n",
    "    def __init__(self,num_classes):\n",
    "        super(ConvNet,self).__init__()\n",
    "        self.conv1 = nn.Conv2d(3,6,5)\n",
    "        self.pool = nn.MaxPool2d(2,2)\n",
    "        self.conv2 = nn.Conv2d(6,16,5)\n",
    "        self.fc1 = nn.Linear(16*5*5,120)\n",
    "        self.fc2 = nn.Linear(120,84)\n",
    "        self.fc3 = nn.Linear(84,num_classes)\n",
    "    def forward(self,x):\n",
    "        x = self.conv1(x)\n",
    "        x = F.relu(x)\n",
    "        x = self.pool(x)\n",
    "        \n",
    "        x = self.conv2(x)\n",
    "        x = F.relu(x)\n",
    "        x = self.pool(x)\n",
    "        \n",
    "        ## Flatten Layer\n",
    "        x = x.view(-1,16*5*5)\n",
    "        \n",
    "        ## Fully Connected Layers\n",
    "        x = F.relu(self.fc1(x))\n",
    "        x = F.relu(self.fc2(x))\n",
    "        x = self.fc3(x)\n",
    "        \n",
    "        return x\n",
    "        "
   ]
  },
  {
   "cell_type": "code",
   "execution_count": 11,
   "id": "5cc86d78",
   "metadata": {},
   "outputs": [],
   "source": [
    "device = torch.device('cuda' if torch.cuda.is_available() else 'cpu')"
   ]
  },
  {
   "cell_type": "code",
   "execution_count": 12,
   "id": "a7ac453d",
   "metadata": {},
   "outputs": [],
   "source": [
    "model = ConvNet(10).to(device)"
   ]
  },
  {
   "cell_type": "code",
   "execution_count": 13,
   "id": "545989f6",
   "metadata": {},
   "outputs": [],
   "source": [
    "epochs = 2\n",
    "learning_rate = 0.001\n",
    "optimizer = torch.optim.SGD(model.parameters(),lr = learning_rate)\n",
    "loss = nn.CrossEntropyLoss()"
   ]
  },
  {
   "cell_type": "code",
   "execution_count": 15,
   "id": "f16847b7",
   "metadata": {},
   "outputs": [
    {
     "name": "stdout",
     "output_type": "stream",
     "text": [
      "Epoch: 0/2, Step: 1/12500, Loss: 2.3085\n",
      "Epoch: 0/2, Step: 2001/12500, Loss: 2.2856\n",
      "Epoch: 0/2, Step: 4001/12500, Loss: 2.2895\n",
      "Epoch: 0/2, Step: 6001/12500, Loss: 2.3092\n",
      "Epoch: 0/2, Step: 8001/12500, Loss: 2.3022\n",
      "Epoch: 0/2, Step: 10001/12500, Loss: 2.2748\n",
      "Epoch: 0/2, Step: 12001/12500, Loss: 2.0544\n",
      "Epoch: 1/2, Step: 1/12500, Loss: 2.1143\n",
      "Epoch: 1/2, Step: 2001/12500, Loss: 1.9370\n",
      "Epoch: 1/2, Step: 4001/12500, Loss: 1.8557\n",
      "Epoch: 1/2, Step: 6001/12500, Loss: 1.7780\n",
      "Epoch: 1/2, Step: 8001/12500, Loss: 1.9883\n",
      "Epoch: 1/2, Step: 10001/12500, Loss: 1.6016\n",
      "Epoch: 1/2, Step: 12001/12500, Loss: 1.2876\n"
     ]
    }
   ],
   "source": [
    "num_batches = len(train_dataloader)\n",
    "for epoch in range(epochs):\n",
    "    for i ,  (images,labels) in enumerate(train_dataloader):\n",
    "        images = images.to(device)\n",
    "        labels = labels.to(device)\n",
    "        \n",
    "        output = model(images)\n",
    "        l = loss(output,labels)\n",
    "        optimizer.zero_grad()\n",
    "        l.backward()\n",
    "        optimizer.step()\n",
    "        \n",
    "        if (i%2000)==0:\n",
    "            print(f\"Epoch: {epoch}/{epochs}, Step: {i+1}/{num_batches}, Loss: {l.item():.4f}\")"
   ]
  },
  {
   "cell_type": "code",
   "execution_count": 18,
   "id": "1b49fd05",
   "metadata": {},
   "outputs": [
    {
     "name": "stdout",
     "output_type": "stream",
     "text": [
      "Testing_accuracy: 34.2400\n",
      "Accuracy of plane: 60.80%\n",
      "Accuracy of car: 35.40%\n",
      "Accuracy of bird: 3.70%\n",
      "Accuracy of cat: 10.10%\n",
      "Accuracy of deer: 13.60%\n",
      "Accuracy of dog: 45.70%\n",
      "Accuracy of frog: 65.00%\n",
      "Accuracy of horse: 47.80%\n",
      "Accuracy of ship: 18.00%\n",
      "Accuracy of truck: 42.30%\n"
     ]
    }
   ],
   "source": [
    "with torch.no_grad():\n",
    "    n_correct = 0\n",
    "    n_samples = 0\n",
    "    n_class_correct = [0 for i in range(10)]\n",
    "    n_class_samples = [0 for i in range(10)]\n",
    "    for images, labels in test_dataloader:\n",
    "        images = images.to(device)\n",
    "        labels = labels.to(device)\n",
    "        outputs = model(images)\n",
    "        _,predicted = torch.max(outputs,1)\n",
    "        n_samples += labels.size(0)\n",
    "        n_correct += (predicted==labels).sum().item()\n",
    "        \n",
    "        for i in range(batch_size):\n",
    "            label = labels[i]\n",
    "            pred = predicted[i]\n",
    "            if (label == pred):\n",
    "                n_class_correct[label]+=1\n",
    "            n_class_samples[label]+=1\n",
    "            \n",
    "acc = 100.0*(n_correct/n_samples)\n",
    "print(f\"Testing_accuracy: {acc:.4f}\")\n",
    "\n",
    "for i in range(10):\n",
    "    acc = 100.0*(n_class_correct[i]/n_class_samples[i])\n",
    "    print(f\"Accuracy of {classes[i]}: {acc:.2f}%\")\n",
    "            "
   ]
  },
  {
   "cell_type": "code",
   "execution_count": null,
   "id": "e0bf2ae2",
   "metadata": {},
   "outputs": [],
   "source": []
  }
 ],
 "metadata": {
  "kernelspec": {
   "display_name": "Python 3",
   "language": "python",
   "name": "python3"
  },
  "language_info": {
   "codemirror_mode": {
    "name": "ipython",
    "version": 3
   },
   "file_extension": ".py",
   "mimetype": "text/x-python",
   "name": "python",
   "nbconvert_exporter": "python",
   "pygments_lexer": "ipython3",
   "version": "3.8.8"
  }
 },
 "nbformat": 4,
 "nbformat_minor": 5
}
